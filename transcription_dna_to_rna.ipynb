{
 "cells": [
  {
   "cell_type": "markdown",
   "id": "91d94efd",
   "metadata": {},
   "source": [
    "# Transcription Script (DNA --> RNA)"
   ]
  },
  {
   "cell_type": "markdown",
   "id": "5764c1f4",
   "metadata": {},
   "source": [
    "Intended Use: Transcribe a DNA sequence to a RNA sequence"
   ]
  },
  {
   "cell_type": "code",
   "execution_count": null,
   "id": "23804725",
   "metadata": {},
   "outputs": [],
   "source": [
    "def transcribe(sequence):\n",
    "    RNA_sequence = DNA_sequence.replace(\"T\", \"U\")\n",
    "    return RNA_sequence"
   ]
  },
  {
   "cell_type": "code",
   "execution_count": null,
   "id": "239986a9",
   "metadata": {},
   "outputs": [],
   "source": [
    "DNA_sequence = \"ATAGCATTTA\""
   ]
  },
  {
   "cell_type": "code",
   "execution_count": null,
   "id": "7750c4f0",
   "metadata": {},
   "outputs": [],
   "source": [
    "transcribe(DNA_sequence)"
   ]
  }
 ],
 "metadata": {
  "kernelspec": {
   "display_name": "Python 3 (ipykernel)",
   "language": "python",
   "name": "python3"
  },
  "language_info": {
   "codemirror_mode": {
    "name": "ipython",
    "version": 3
   },
   "file_extension": ".py",
   "mimetype": "text/x-python",
   "name": "python",
   "nbconvert_exporter": "python",
   "pygments_lexer": "ipython3",
   "version": "3.9.12"
  }
 },
 "nbformat": 4,
 "nbformat_minor": 5
}
