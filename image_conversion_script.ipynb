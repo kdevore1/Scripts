{
 "cells": [
  {
   "cell_type": "code",
   "execution_count": 1,
   "id": "0b77bc38",
   "metadata": {},
   "outputs": [],
   "source": [
    "# importing libraries\n",
    "from PIL import Image\n",
    "import os"
   ]
  },
  {
   "cell_type": "code",
   "execution_count": 2,
   "id": "4129aafa",
   "metadata": {},
   "outputs": [
    {
     "name": "stdout",
     "output_type": "stream",
     "text": [
      "The size of the image before conversion : 445415\n"
     ]
    }
   ],
   "source": [
    "# importing the image \n",
    "im = Image.open(\"file_name.jpg\")\n",
    "print(\"The size of the image before conversion : \", end = \"\")\n",
    "print(os.path.getsize(\"file_name.jpg\"))"
   ]
  },
  {
   "cell_type": "code",
   "execution_count": 3,
   "id": "6c195563",
   "metadata": {},
   "outputs": [],
   "source": [
    "# converting to png\n",
    "rgb_im = im.convert(\"RGB\")"
   ]
  },
  {
   "cell_type": "code",
   "execution_count": 4,
   "id": "fcfd7ca7",
   "metadata": {},
   "outputs": [
    {
     "name": "stdout",
     "output_type": "stream",
     "text": [
      "The size of the image after conversion : 4228452\n"
     ]
    }
   ],
   "source": [
    "# exporting the image\n",
    "rgb_im.save(\"file_name.png\")\n",
    "print(\"The size of the image after conversion : \", end = \"\")\n",
    "print(os.path.getsize(\"file_name.png\"))"
   ]
  }
 ],
 "metadata": {
  "kernelspec": {
   "display_name": "Python 3 (ipykernel)",
   "language": "python",
   "name": "python3"
  },
  "language_info": {
   "codemirror_mode": {
    "name": "ipython",
    "version": 3
   },
   "file_extension": ".py",
   "mimetype": "text/x-python",
   "name": "python",
   "nbconvert_exporter": "python",
   "pygments_lexer": "ipython3",
   "version": "3.9.7"
  }
 },
 "nbformat": 4,
 "nbformat_minor": 5
}
