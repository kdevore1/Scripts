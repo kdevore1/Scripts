{
 "cells": [
  {
   "cell_type": "markdown",
   "id": "fa352c1d",
   "metadata": {},
   "source": [
    "# Buffer Component Calculator"
   ]
  },
  {
   "cell_type": "markdown",
   "id": "8004cd54",
   "metadata": {},
   "source": [
    "Intended Use: Determine how much of each stock component to add to your buffer of a desired concentration and final volume"
   ]
  },
  {
   "cell_type": "code",
   "execution_count": null,
   "id": "23b7dffd",
   "metadata": {},
   "outputs": [],
   "source": [
    "import math"
   ]
  },
  {
   "cell_type": "markdown",
   "id": "d0e63eae",
   "metadata": {},
   "source": [
    "## Function"
   ]
  },
  {
   "cell_type": "code",
   "execution_count": null,
   "id": "fe912dc5",
   "metadata": {},
   "outputs": [],
   "source": [
    "# empty list to be filled with volumes of stock solutions to add to buffer\n",
    "initial_vol_list = []  \n",
    "\n",
    "def buffer_components():\n",
    "    final_vol = int(input(\"What is your desired final volume in ml?\"))\n",
    "    num_of_components = int(input(\"How many components will be in your buffer?\"))\n",
    "    \n",
    "    # loops through number of components and calculates how much volume to add to buffer to achieve desired concentration\n",
    "    for i in range(num_of_components):\n",
    "        initial_conc = float((input(\"What is the initial concentration of your component (M)?\")))\n",
    "        final_conc = float((input(\"What is your desired concentration of your component (M)?\")))\n",
    "        initial_vol = (final_conc * final_vol) / initial_conc\n",
    "        print(\"Add \", initial_vol, \"ml of your component\")\n",
    "        # appends list with volume of each component to add to buffer\n",
    "        initial_vol_list.append(initial_vol)\n",
    "    \n",
    "    # sums list\n",
    "    sum_initial_vol = sum(initial_vol_list)\n",
    "    \n",
    "    # determines how much water to add to buffer\n",
    "    vol_of_water = final_vol - sum_initial_vol\n",
    "    print(\"Add \", vol_of_water, \"ml of water\")"
   ]
  },
  {
   "cell_type": "markdown",
   "id": "8580debf",
   "metadata": {},
   "source": [
    "## Result"
   ]
  },
  {
   "cell_type": "code",
   "execution_count": null,
   "id": "1ad21856",
   "metadata": {},
   "outputs": [],
   "source": [
    "buffer_components()"
   ]
  }
 ],
 "metadata": {
  "kernelspec": {
   "display_name": "Python 3 (ipykernel)",
   "language": "python",
   "name": "python3"
  },
  "language_info": {
   "codemirror_mode": {
    "name": "ipython",
    "version": 3
   },
   "file_extension": ".py",
   "mimetype": "text/x-python",
   "name": "python",
   "nbconvert_exporter": "python",
   "pygments_lexer": "ipython3",
   "version": "3.9.12"
  }
 },
 "nbformat": 4,
 "nbformat_minor": 5
}
