{
 "cells": [
  {
   "cell_type": "markdown",
   "id": "13582d56",
   "metadata": {},
   "source": [
    "# RPM / G-force Calculator "
   ]
  },
  {
   "cell_type": "markdown",
   "id": "dc9a299d",
   "metadata": {},
   "source": [
    "Intended Use: Convert revolution per minute of rotor (rpm) to relative centrifugal force (g force) or vice versa based on user input"
   ]
  },
  {
   "cell_type": "code",
   "execution_count": null,
   "id": "5d08f878",
   "metadata": {},
   "outputs": [],
   "source": [
    "import math"
   ]
  },
  {
   "cell_type": "markdown",
   "id": "1140a8c2",
   "metadata": {},
   "source": [
    "## Function "
   ]
  },
  {
   "cell_type": "code",
   "execution_count": null,
   "id": "61d0d2c1",
   "metadata": {},
   "outputs": [],
   "source": [
    "def pick_calculator(): \n",
    "    answer = int(input(\"What is your desired conversion? Input either 1 for RPM to g force or 2 for g force to RPM\"))\n",
    "    if answer == 1:\n",
    "        RPM = int(input(\"What is your RPM?\"))\n",
    "        r = int(input(\"What is the radius (cm) of the rotor?\"))\n",
    "        return(\"The g force is \", (RPM)**2 * 1.118 * 10**-5 * r)\n",
    "    elif answer == 2:\n",
    "        RCF = int(input(\"What is your RCF?\"))\n",
    "        r = int(input(\"What is the radius (cm) of the rotor?\"))\n",
    "        return(\"The RPM is \", math.sqrt(RCF/(r * 1.118)) * 10**5) \n",
    "    else:\n",
    "        print(\"Error, please try again\")"
   ]
  },
  {
   "cell_type": "markdown",
   "id": "2616a0c7",
   "metadata": {},
   "source": [
    "## Result"
   ]
  },
  {
   "cell_type": "code",
   "execution_count": null,
   "id": "c8ee1e55",
   "metadata": {},
   "outputs": [],
   "source": [
    "print(pick_calculator())"
   ]
  }
 ],
 "metadata": {
  "kernelspec": {
   "display_name": "Python 3 (ipykernel)",
   "language": "python",
   "name": "python3"
  },
  "language_info": {
   "codemirror_mode": {
    "name": "ipython",
    "version": 3
   },
   "file_extension": ".py",
   "mimetype": "text/x-python",
   "name": "python",
   "nbconvert_exporter": "python",
   "pygments_lexer": "ipython3",
   "version": "3.9.12"
  }
 },
 "nbformat": 4,
 "nbformat_minor": 5
}
