{
 "cells": [
  {
   "cell_type": "markdown",
   "id": "44ebafe4",
   "metadata": {},
   "source": [
    "# Translation Script (DNA (or RNA)--> Protein)"
   ]
  },
  {
   "cell_type": "markdown",
   "id": "87d2a55c",
   "metadata": {},
   "source": [
    "Intended Use: Translate a DNA or RNA sequence into an amino acid sequence"
   ]
  },
  {
   "cell_type": "code",
   "execution_count": null,
   "id": "2144cbe0",
   "metadata": {},
   "outputs": [],
   "source": [
    "def translate():\n",
    "    \n",
    "    # Asks user for sequence type\n",
    "    sequence_type = input(\"Are you working with a DNA or RNA sequence?\")\n",
    "    \n",
    "    # DNA\n",
    "    if sequence_type == \"DNA\":\n",
    "        DNA_one_letter_table = {\n",
    "        'ATA':'I', 'ATC':'I', 'ATT':'I', 'ATG':'M',\n",
    "        'ACA':'T', 'ACC':'T', 'ACG':'T', 'ACT':'T',\n",
    "        'AAC':'N', 'AAT':'N', 'AAA':'K', 'AAG':'K',\n",
    "        'AGC':'S', 'AGT':'S', 'AGA':'R', 'AGG':'R',\n",
    "        'CTA':'L', 'CTC':'L', 'CTG':'L', 'CTT':'L',\n",
    "        'CCA':'P', 'CCC':'P', 'CCG':'P', 'CCT':'P',\n",
    "        'CAC':'H', 'CAT':'H', 'CAA':'Q', 'CAG':'Q',\n",
    "        'CGA':'R', 'CGC':'R', 'CGG':'R', 'CGT':'R',\n",
    "        'GTA':'V', 'GTC':'V', 'GTG':'V', 'GTT':'V',\n",
    "        'GCA':'A', 'GCC':'A', 'GCG':'A', 'GCT':'A',\n",
    "        'GAC':'D', 'GAT':'D', 'GAA':'E', 'GAG':'E',\n",
    "        'GGA':'G', 'GGC':'G', 'GGG':'G', 'GGT':'G',\n",
    "        'TCA':'S', 'TCC':'S', 'TCG':'S', 'TCT':'S',\n",
    "        'TTC':'F', 'TTT':'F', 'TTA':'L', 'TTG':'L',\n",
    "        'TAC':'Y', 'TAT':'Y', 'TAA':'_', 'TAG':'_',\n",
    "        'TGC':'C', 'TGT':'C', 'TGA':'_', 'TGG':'W',\n",
    "        }\n",
    "        protein_one_letter = \"\"\n",
    "        sequence = input(\"Input DNA sequence\")\n",
    "        if len(sequence)%3 == 0:\n",
    "            for i in range(0, len(sequence), 3):\n",
    "                codon = sequence[i : i + 3]\n",
    "                protein_one_letter+= DNA_one_letter_table[codon]\n",
    "        return protein_one_letter   \n",
    "    \n",
    "    # RNA\n",
    "    elif sequence_type == \"RNA\":\n",
    "        RNA_one_letter_table = {\n",
    "        'AUA':'I', 'AUC':'I', 'AUU':'I', 'AUG':'M',\n",
    "        'ACA':'T', 'ACC':'T', 'ACG':'T', 'ACU':'T',\n",
    "        'AAC':'N', 'AAU':'N', 'AAA':'K', 'AAG':'K',\n",
    "        'AGC':'S', 'AGU':'S', 'AGA':'R', 'AGG':'R',\n",
    "        'CUA':'L', 'CUC':'L', 'CUG':'L', 'CUU':'L',\n",
    "        'CCA':'P', 'CCC':'P', 'CCG':'P', 'CCT':'P',\n",
    "        'CAC':'H', 'CAU':'H', 'CAA':'Q', 'CAG':'Q',\n",
    "        'CGA':'R', 'CGC':'R', 'CGG':'R', 'CGU':'R',\n",
    "        'GUA':'V', 'GUC':'V', 'GUG':'V', 'GUU':'V',\n",
    "        'GCA':'A', 'GCC':'A', 'GCG':'A', 'GCU':'A',\n",
    "        'GAC':'D', 'GAU':'D', 'GAA':'E', 'GAG':'E',\n",
    "        'GGA':'G', 'GGC':'G', 'GGG':'G', 'GGU':'G',\n",
    "        'UCA':'S', 'UCC':'S', 'UCG':'S', 'UCU':'S',\n",
    "        'UUC':'F', 'UUU':'F', 'UUA':'L', 'UUG':'L',\n",
    "        'UAC':'Y', 'UAU':'Y', 'UAA':'_', 'UAG':'_',\n",
    "        'UGC':'C', 'UGU':'C', 'UGA':'_', 'UGG':'W',\n",
    "        }\n",
    "        protein_one_letter = \"\"\n",
    "        sequence = input(\"Input RNA sequence\")\n",
    "        if len(sequence)%3 == 0:\n",
    "            for i in range(0, len(sequence), 3):\n",
    "                codon = sequence[i : i + 3]\n",
    "                protein_one_letter+= RNA_one_letter_table[codon]\n",
    "        return protein_one_letter\n",
    "    \n",
    "    # Can't read input\n",
    "    else:\n",
    "        print(\"Please try again (Note: Make sure to use all CAPS when answering)\")"
   ]
  },
  {
   "cell_type": "code",
   "execution_count": null,
   "id": "a008676f",
   "metadata": {},
   "outputs": [],
   "source": [
    "# Calling the function\n",
    "translate()"
   ]
  },
  {
   "cell_type": "markdown",
   "id": "623d57ab",
   "metadata": {},
   "source": [
    "Intended Use: Translate an amino acid sequence from one letter to three letter codes "
   ]
  },
  {
   "cell_type": "code",
   "execution_count": null,
   "id": "9f1cfd72",
   "metadata": {},
   "outputs": [],
   "source": [
    "def single_letter_to_three_letter():\n",
    "    amino_acid_table = {\n",
    "        'I':'Ile', 'M':'Met', 'T':'Thr', 'N':'Asn', \n",
    "        'K':'Lys', 'S':'Ser', 'L':'Leu', 'P':'Pro', \n",
    "        'H':'His', 'Q':'Gln', 'R':'Arg', 'V':'Val',\n",
    "        'A':'Ala', 'D':'Asp', 'E':'Glu', 'G':'Gly', \n",
    "        'F':'Phe', 'Y':'Tyr', '_':'Stop','C':'Cys',\n",
    "        'W':'Trp',\n",
    "    }\n",
    "    three_letter_sequence = \"\"\n",
    "    one_letter_aa_sequence = input(\"Input one letter protein sequence\")\n",
    "    for i in range(0, len(one_letter_aa_sequence)):\n",
    "        next_aa = one_letter_aa_sequence[i : i + 1]\n",
    "        three_letter_sequence+= amino_acid_table[next_aa] \n",
    "    return three_letter_sequence"
   ]
  },
  {
   "cell_type": "code",
   "execution_count": null,
   "id": "cebbc02f",
   "metadata": {},
   "outputs": [],
   "source": [
    "# Calling the function\n",
    "single_letter_to_three_letter()"
   ]
  },
  {
   "cell_type": "markdown",
   "id": "c647ead7",
   "metadata": {},
   "source": [
    "Intended Use: Translate an amino acid sequence from either one or three letter codes to the full name"
   ]
  },
  {
   "cell_type": "code",
   "execution_count": null,
   "id": "a71a2322",
   "metadata": {},
   "outputs": [],
   "source": [
    "def full_name():\n",
    "    \n",
    "    # Asks user for input\n",
    "    aa_sequence_type = int(input(\"Are you working with a 3 letter or 1 letter code?\"))\n",
    "    \n",
    "    # 1 letter code\n",
    "    if aa_sequence_type == 1:\n",
    "        amino_acid_table = {\n",
    "        'I':'Isoleucine', 'M':'Methionine', 'T':'Threonine', 'N':'Asparagine', \n",
    "        'K':'Lysine', 'S':'Serine', 'L':'Leucine', 'P':'Proline', \n",
    "        'H':'Histidine', 'Q':'Glutamine', 'R':'Arginine', 'V':'Valine',\n",
    "        'A':'Alanine', 'D':'Aspartic acid', 'E':'Glutamic acid', 'G':'Glycine', \n",
    "        'F':'Phenylalanine', 'Y':'Tyrosine', '_':'Stop','C':'Cysteine',\n",
    "        'W':'Tryptophan',\n",
    "        }\n",
    "        full_name_sequence = \"\"\n",
    "        one_letter_aa_sequence_2 = input(\"Input one letter protein sequence\")\n",
    "        for i in range(0, len(one_letter_aa_sequence_2)):\n",
    "            next_aa = one_letter_aa_sequence_2[i : i + 1]\n",
    "            full_name_sequence+= amino_acid_table[next_aa]\n",
    "        return full_name_sequence\n",
    "    \n",
    "    # 3 letter code\n",
    "    elif aa_sequence_type == 3:\n",
    "        amino_acid_table = {\n",
    "        'Ile':'Isoleucine', 'Met':'Methionine', 'Thr':'Threonine', 'Asn':'Asparagine', \n",
    "        'Lys':'Lysine', 'Ser':'Serine', 'Leu':'Leucine', 'Pro':'Proline', \n",
    "        'His':'Histidine', 'Gln':'Glutamine', 'Arg':'Arginine', 'Val':'Valine',\n",
    "        'Ala':'Alanine', 'Asp':'Aspartic acid', 'Glu':'Glutamic acid', 'Gly':'Glycine', \n",
    "        'Phe':'Phenylalanine', 'Tyr':'Tyrosine', '_':'Stop','Cys':'Cysteine',\n",
    "        'Trp':'Tryptophan',\n",
    "        }\n",
    "        full_name_sequence = \"\"\n",
    "        three_letter_aa_sequence = input(\"Input three letter protein sequence\")\n",
    "        for i in range(0, len(three_letter_aa_sequence), 3):\n",
    "            next_aa = three_letter_aa_sequence[i : i + 3]\n",
    "            full_name_sequence+= amino_acid_table[next_aa]\n",
    "        return full_name_sequence"
   ]
  },
  {
   "cell_type": "code",
   "execution_count": null,
   "id": "aa88ecb7",
   "metadata": {},
   "outputs": [],
   "source": [
    "# Calling the function\n",
    "full_name()"
   ]
  }
 ],
 "metadata": {
  "kernelspec": {
   "display_name": "Python 3 (ipykernel)",
   "language": "python",
   "name": "python3"
  },
  "language_info": {
   "codemirror_mode": {
    "name": "ipython",
    "version": 3
   },
   "file_extension": ".py",
   "mimetype": "text/x-python",
   "name": "python",
   "nbconvert_exporter": "python",
   "pygments_lexer": "ipython3",
   "version": "3.9.12"
  }
 },
 "nbformat": 4,
 "nbformat_minor": 5
}
